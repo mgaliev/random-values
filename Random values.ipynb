{
 "cells": [
  {
   "cell_type": "code",
   "execution_count": 13,
   "metadata": {
    "collapsed": false
   },
   "outputs": [],
   "source": [
    "import numpy as np\n",
    "import scipy.stats as sts\n",
    "import matplotlib.pyplot as plt\n",
    "%matplotlib inline"
   ]
  },
  {
   "cell_type": "markdown",
   "metadata": {
    "collapsed": true
   },
   "source": [
    "Используется Python 3.5\n",
    "\n",
    "# Центральная предельная теорема своими руками\n",
    "\n",
    "## Непрерывная случайная величина\n",
    "\n",
    "Я использую случайную величину, которая описывается экспоненциальным распределением"
   ]
  },
  {
   "cell_type": "code",
   "execution_count": 7,
   "metadata": {
    "collapsed": false
   },
   "outputs": [],
   "source": [
    "#Сгенерируем случайную величину\n",
    "rv = sts.expon()"
   ]
  },
  {
   "cell_type": "code",
   "execution_count": 26,
   "metadata": {
    "collapsed": false
   },
   "outputs": [
    {
     "data": {
      "text/plain": [
       "<matplotlib.legend.Legend at 0x10f52a908>"
      ]
     },
     "execution_count": 26,
     "metadata": {},
     "output_type": "execute_result"
    },
    {
     "data": {
      "image/png": "[encoded data removed]",
      "text/plain": [
       "<matplotlib.figure.Figure at 0x10e6aa358>"
      ]
     },
     "metadata": {},
     "output_type": "display_data"
    }
   ],
   "source": [
    "#Теперь сделаем выборку объемом n=1000, построим ее гистограмму и теоретическую плотность распределения\n",
    "sample = rv.rvs(1000)\n",
    "\n",
    "x = np.linspace(0,8, 1000)\n",
    "pdf = rv.pdf(x)\n",
    "\n",
    "plt.ylabel('$F(x)$')\n",
    "plt.xlabel('$x$')\n",
    "\n",
    "plt.hist(sample, normed=True, label='Выборка n=1000')\n",
    "plt.plot(x, pdf, label='Теоретическая плотность распределения')\n",
    "plt.legend(loc='best', frameon=False)"
   ]
  },
  {
   "cell_type": "markdown",
   "metadata": {},
   "source": [
    "## Апроксимация выборочного среднего"
   ]
  },
  {
   "cell_type": "markdown",
   "metadata": {},
   "source": [
    "Теперь сгенериуем 1000 выборок трех разных объемов (n = 5, 10, 50), построим гистограммы выборочных средних каждой выборки и посмотрим, насколько точно можно апроксимировать эту величину в зависимости от объема выборки. По ЦПТ выборочное среднее описывается нормальным распределнием\n"
   ]
  },
  {
   "cell_type": "code",
   "execution_count": 59,
   "metadata": {
    "collapsed": true
   },
   "outputs": [],
   "source": [
    "#функция подсчета выборочного среднего\n",
    "def calculate_mean(set):\n",
    "    summa = 0\n",
    "    for count, i in enumerate(set):\n",
    "        summa += i\n",
    "    return summa/count"
   ]
  },
  {
   "cell_type": "code",
   "execution_count": 60,
   "metadata": {
    "collapsed": false
   },
   "outputs": [],
   "source": [
    "#записывать выборочные средние будем в список\n",
    "rv_mean = []\n",
    "\n",
    "n = 5\n",
    "\n",
    "#сделаем 1000 выборок размера 5, подсчитаем выборочное среднее и добавим его в список средних\n",
    "for k in range(1000):\n",
    "    sample = rv.rvs(n)\n",
    "    rv_mean.append(calculate_mean(sample))"
   ]
  },
  {
   "cell_type": "code",
   "execution_count": 61,
   "metadata": {
    "collapsed": false
   },
   "outputs": [
    {
     "data": {
      "text/plain": [
       "(array([  50.,  218.,  283.,  214.,  123.,   69.,   21.,   11.,    6.,    5.]),\n",
       " array([ 0.1420691 ,  0.4914741 ,  0.84087909,  1.19028408,  1.53968908,\n",
       "         1.88909407,  2.23849906,  2.58790406,  2.93730905,  3.28671404,\n",
       "         3.63611904]),\n",
       " <a list of 10 Patch objects>)"
      ]
     },
     "execution_count": 61,
     "metadata": {},
     "output_type": "execute_result"
    },
    {
     "data": {
      "image/png": "[encoded data removed]",
      "text/plain": [
       "<matplotlib.figure.Figure at 0x10f85c358>"
      ]
     },
     "metadata": {},
     "output_type": "display_data"
    }
   ],
   "source": [
    "plt.hist(rv_mean)"
   ]
  },
  {
   "cell_type": "code",
   "execution_count": null,
   "metadata": {
    "collapsed": true
   },
   "outputs": [],
   "source": []
  }
 ],
 "metadata": {
  "anaconda-cloud": {},
  "kernelspec": {
   "display_name": "Python [conda root]",
   "language": "python",
   "name": "conda-root-py"
  },
  "language_info": {
   "codemirror_mode": {
    "name": "ipython",
    "version": 3
   },
   "file_extension": ".py",
   "mimetype": "text/x-python",
   "name": "python",
   "nbconvert_exporter": "python",
   "pygments_lexer": "ipython3",
   "version": "3.5.2"
  }
 },
 "nbformat": 4,
 "nbformat_minor": 1
}
